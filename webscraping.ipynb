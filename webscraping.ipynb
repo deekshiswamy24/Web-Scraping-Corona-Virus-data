{
 "cells": [
  {
   "cell_type": "markdown",
   "id": "97d9bcdf-2614-4227-a415-94b1b51104de",
   "metadata": {},
   "source": [
    "#Import library\n",
    "import requests"
   ]
  },
  {
   "cell_type": "code",
   "execution_count": 4,
   "id": "bdeb0b3b-a5c7-4832-9854-a96e26309a21",
   "metadata": {},
   "outputs": [],
   "source": [
    "#make request from webpage\n",
    "url =' https://www.worldometers.info/coronavirus/country/india/'\n",
    "result = requests.get(url)"
   ]
  },
  {
   "cell_type": "code",
   "execution_count": 5,
   "id": "ddc82ba7-a1b8-4cb7-b018-8508fcb8f860",
   "metadata": {},
   "outputs": [],
   "source": [
    "#result.text"
   ]
  },
  {
   "cell_type": "markdown",
   "id": "5106866b-5c41-4643-845f-877a356896eb",
   "metadata": {},
   "source": [
    "Beautiful Soup\n"
   ]
  },
  {
   "cell_type": "code",
   "execution_count": 6,
   "id": "a583cfe2-f034-4dd4-8540-38fb4eee05cb",
   "metadata": {},
   "outputs": [
    {
     "name": "stdout",
     "output_type": "stream",
     "text": [
      "Requirement already satisfied: lxml in c:\\program filespython310\\lib\\site-packages (4.9.2)\n",
      "Note: you may need to restart the kernel to use updated packages.\n"
     ]
    }
   ],
   "source": [
    "pip install lxml\n"
   ]
  },
  {
   "cell_type": "code",
   "execution_count": 7,
   "id": "0997cb49-a8f0-43f1-813e-2bc342a149bb",
   "metadata": {},
   "outputs": [],
   "source": [
    "#Import library\n",
    "import bs4"
   ]
  },
  {
   "cell_type": "code",
   "execution_count": 8,
   "id": "fbca417b-0c8b-4d06-93c8-02ffc4b87f62",
   "metadata": {},
   "outputs": [],
   "source": [
    "#create soup object\n",
    "soup = bs4.BeautifulSoup(result.text, 'lxml')"
   ]
  },
  {
   "cell_type": "code",
   "execution_count": 10,
   "id": "7b9d6ac7-7d68-42fb-a7f7-8fb878125c8b",
   "metadata": {},
   "outputs": [],
   "source": [
    "#soup"
   ]
  },
  {
   "cell_type": "markdown",
   "id": "aa31a8c8-e106-4372-a879-9bc7102e6a43",
   "metadata": {},
   "source": [
    "Extracting the data\n",
    "\n",
    "Find the div\n",
    "\n"
   ]
  },
  {
   "cell_type": "code",
   "execution_count": 11,
   "id": "c2dbd212-83f6-43db-85e2-3a1c36c1be4c",
   "metadata": {},
   "outputs": [],
   "source": [
    "#find-all method\n",
    "cases = soup.find_all('div', class_ = 'maincounter-number')"
   ]
  },
  {
   "cell_type": "code",
   "execution_count": 12,
   "id": "d1c3dd5e-56cc-4611-a27b-167b81fadd3a",
   "metadata": {},
   "outputs": [
    {
     "data": {
      "text/plain": [
       "[<div class=\"maincounter-number\">\n",
       " <span style=\"color:#aaa\">44,994,032        </span>\n",
       " </div>,\n",
       " <div class=\"maincounter-number\">\n",
       " <span>531,903</span>\n",
       " </div>,\n",
       " <div class=\"maincounter-number\" style=\"color:#8ACA2B \">\n",
       " <span>44,460,523</span>\n",
       " </div>]"
      ]
     },
     "execution_count": 12,
     "metadata": {},
     "output_type": "execute_result"
    }
   ],
   "source": [
    "cases"
   ]
  },
  {
   "cell_type": "markdown",
   "id": "882d58b0-86b5-4c78-adef-93345012b24b",
   "metadata": {},
   "source": [
    "Storing the data"
   ]
  },
  {
   "cell_type": "code",
   "execution_count": 13,
   "id": "e4516d38-9a87-4d4b-85ed-89301fe408ee",
   "metadata": {},
   "outputs": [],
   "source": [
    "#python list\n",
    "data = []"
   ]
  },
  {
   "cell_type": "code",
   "execution_count": 14,
   "id": "6176909d-50cf-4698-861f-2a61a0e6f3d9",
   "metadata": {},
   "outputs": [],
   "source": [
    "#find the span and get data from it\n",
    "for i in cases:\n",
    "    span = i .find('span')\n",
    "    data.append(span.string)"
   ]
  },
  {
   "cell_type": "code",
   "execution_count": 15,
   "id": "c85f4cf5-a568-4c55-b4ee-e8d0578be768",
   "metadata": {},
   "outputs": [
    {
     "data": {
      "text/plain": [
       "['44,994,032        ', '531,903', '44,460,523']"
      ]
     },
     "execution_count": 15,
     "metadata": {},
     "output_type": "execute_result"
    }
   ],
   "source": [
    "data"
   ]
  },
  {
   "cell_type": "markdown",
   "id": "37d3441c-283c-44d9-9776-455cf92155e8",
   "metadata": {},
   "source": [
    "Exporting the data"
   ]
  },
  {
   "cell_type": "code",
   "execution_count": 16,
   "id": "be81cb2d-9658-4ef6-9486-9efdd17d4620",
   "metadata": {},
   "outputs": [],
   "source": [
    "#Import library\n",
    "import pandas as pd"
   ]
  },
  {
   "cell_type": "code",
   "execution_count": 17,
   "id": "acc3384e-a27d-41d1-ae84-60531cd951e6",
   "metadata": {},
   "outputs": [],
   "source": [
    "#create a dataframe\n",
    "df = pd.DataFrame({'CoronaData': data})"
   ]
  },
  {
   "cell_type": "code",
   "execution_count": null,
   "id": "9b2fc844-36e9-4f00-b395-838678af2d9a",
   "metadata": {},
   "outputs": [],
   "source": []
  }
 ],
 "metadata": {
  "kernelspec": {
   "display_name": "Python 3 (ipykernel)",
   "language": "python",
   "name": "python3"
  },
  "language_info": {
   "codemirror_mode": {
    "name": "ipython",
    "version": 3
   },
   "file_extension": ".py",
   "mimetype": "text/x-python",
   "name": "python",
   "nbconvert_exporter": "python",
   "pygments_lexer": "ipython3",
   "version": "3.10.6"
  }
 },
 "nbformat": 4,
 "nbformat_minor": 5
}
